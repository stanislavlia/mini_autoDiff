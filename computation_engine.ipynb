{
  "nbformat": 4,
  "nbformat_minor": 0,
  "metadata": {
    "colab": {
      "provenance": [],
      "authorship_tag": "ABX9TyNdXw7eG3gbERXJisrXkYUR",
      "include_colab_link": true
    },
    "kernelspec": {
      "name": "python3",
      "display_name": "Python 3"
    },
    "language_info": {
      "name": "python"
    }
  },
  "cells": [
    {
      "cell_type": "markdown",
      "metadata": {
        "id": "view-in-github",
        "colab_type": "text"
      },
      "source": [
        "<a href=\"https://colab.research.google.com/github/stanislavlia/toy_AutoGrad/blob/master/computation_engine.ipynb\" target=\"_parent\"><img src=\"https://colab.research.google.com/assets/colab-badge.svg\" alt=\"Open In Colab\"/></a>"
      ]
    },
    {
      "cell_type": "code",
      "execution_count": 74,
      "metadata": {
        "id": "GkNUBESSdx0n"
      },
      "outputs": [],
      "source": [
        "\n",
        "\n",
        "\n",
        "class Value:\n",
        "    def __init__(self, val, _parents=(), _op=''):\n",
        "        self.val = val\n",
        "        self._prev = set(_parents)\n",
        "        self._op = _op\n",
        "        self.grad = 0.0\n",
        "\n",
        "    def __repr__(self):\n",
        "        return f\"Value(val={self.val})\"\n",
        "\n",
        "    def __add__(self, another_value):\n",
        "\n",
        "        result = self.val + another_value.val\n",
        "        out = Value(result, _parents=(self, another_value), _op='+')\n",
        "        return out\n",
        "\n",
        "    def __mul__(self, another_value):\n",
        "\n",
        "        result = self.val * another_value.val\n",
        "        out = Value(result, _parents=(self, another_value), _op='*')\n",
        "\n",
        "        return out\n"
      ]
    },
    {
      "cell_type": "code",
      "source": [
        "a = Value(12)\n",
        "b = Value(3)\n",
        "d = Value(9)\n",
        "\n",
        "c = a * b\n",
        "final = c * Value(-3)\n"
      ],
      "metadata": {
        "id": "sIgLGD1yn1-2"
      },
      "execution_count": 82,
      "outputs": []
    },
    {
      "cell_type": "code",
      "source": [
        "c._op"
      ],
      "metadata": {
        "colab": {
          "base_uri": "https://localhost:8080/",
          "height": 35
        },
        "id": "w9ms2acloVuw",
        "outputId": "9e9aef7b-a191-4d6b-a6f7-2db84aebeba1"
      },
      "execution_count": 76,
      "outputs": [
        {
          "output_type": "execute_result",
          "data": {
            "text/plain": [
              "'*'"
            ],
            "application/vnd.google.colaboratory.intrinsic+json": {
              "type": "string"
            }
          },
          "metadata": {},
          "execution_count": 76
        }
      ]
    },
    {
      "cell_type": "code",
      "source": [],
      "metadata": {
        "id": "B_jV8k5RovOg"
      },
      "execution_count": 76,
      "outputs": []
    },
    {
      "cell_type": "markdown",
      "source": [
        "**Visualizing computational graph**"
      ],
      "metadata": {
        "id": "XUjArplLr3ev"
      }
    },
    {
      "cell_type": "code",
      "source": [
        "# brew install graphviz\n",
        "#pip install graphviz\n",
        "from graphviz import Digraph\n",
        "\n",
        "def trace(root):\n",
        "    nodes, edges = set(), set()\n",
        "    def build(v):\n",
        "        if v not in nodes:\n",
        "            nodes.add(v)\n",
        "            for child in v._prev:\n",
        "                edges.add((child, v))\n",
        "                build(child)\n",
        "    build(root)\n",
        "    return nodes, edges\n",
        "\n",
        "def draw_dot(root, format='svg', rankdir='LR'):\n",
        "    \"\"\"\n",
        "    format: png | svg | ...\n",
        "    rankdir: TB (top to bottom graph) | LR (left to right)\n",
        "    \"\"\"\n",
        "    assert rankdir in ['LR', 'TB']\n",
        "    nodes, edges = trace(root)\n",
        "    dot = Digraph(format=format, graph_attr={'rankdir': rankdir}) #, node_attr={'rankdir': 'TB'})\n",
        "\n",
        "    for n in nodes:\n",
        "        dot.node(name=str(id(n)), label = \"{ value %.4f}\" % (n.val), shape='record')\n",
        "        if n._op:\n",
        "            dot.node(name=str(id(n)) + n._op, label=n._op)\n",
        "            dot.edge(str(id(n)) + n._op, str(id(n)))\n",
        "\n",
        "    for n1, n2 in edges:\n",
        "        dot.edge(str(id(n1)), str(id(n2)) + n2._op)\n",
        "\n",
        "    return dot"
      ],
      "metadata": {
        "id": "4njaDLlmr7Yw"
      },
      "execution_count": 86,
      "outputs": []
    },
    {
      "cell_type": "code",
      "source": [
        "\n",
        "draw_dot(final)"
      ],
      "metadata": {
        "colab": {
          "base_uri": "https://localhost:8080/",
          "height": 191
        },
        "id": "sqKWA4phr85g",
        "outputId": "668e91ed-b2dc-4816-d21c-42dc68619ae4"
      },
      "execution_count": 87,
      "outputs": [
        {
          "output_type": "execute_result",
          "data": {
            "image/svg+xml": "<?xml version=\"1.0\" encoding=\"UTF-8\" standalone=\"no\"?>\n<!DOCTYPE svg PUBLIC \"-//W3C//DTD SVG 1.1//EN\"\n \"http://www.w3.org/Graphics/SVG/1.1/DTD/svg11.dtd\">\n<!-- Generated by graphviz version 2.43.0 (0)\n -->\n<!-- Title: %3 Pages: 1 -->\n<svg width=\"553pt\" height=\"128pt\"\n viewBox=\"0.00 0.00 553.00 128.00\" xmlns=\"http://www.w3.org/2000/svg\" xmlns:xlink=\"http://www.w3.org/1999/xlink\">\n<g id=\"graph0\" class=\"graph\" transform=\"scale(1 1) rotate(0) translate(4 124)\">\n<title>%3</title>\n<polygon fill=\"white\" stroke=\"transparent\" points=\"-4,4 -4,-124 549,-124 549,4 -4,4\"/>\n<!-- 139725100950064 -->\n<g id=\"node1\" class=\"node\">\n<title>139725100950064</title>\n<polygon fill=\"none\" stroke=\"black\" points=\"0,-83.5 0,-119.5 94,-119.5 94,-83.5 0,-83.5\"/>\n<text text-anchor=\"middle\" x=\"47\" y=\"-97.8\" font-family=\"Times,serif\" font-size=\"14.00\">value 12.0000</text>\n</g>\n<!-- 139725100950976* -->\n<g id=\"node7\" class=\"node\">\n<title>139725100950976*</title>\n<ellipse fill=\"none\" stroke=\"black\" cx=\"157\" cy=\"-73.5\" rx=\"27\" ry=\"18\"/>\n<text text-anchor=\"middle\" x=\"157\" y=\"-69.8\" font-family=\"Times,serif\" font-size=\"14.00\">*</text>\n</g>\n<!-- 139725100950064&#45;&gt;139725100950976* -->\n<g id=\"edge6\" class=\"edge\">\n<title>139725100950064&#45;&gt;139725100950976*</title>\n<path fill=\"none\" stroke=\"black\" d=\"M94.11,-89.54C103.35,-87.15 112.89,-84.68 121.64,-82.41\"/>\n<polygon fill=\"black\" stroke=\"black\" points=\"122.67,-85.76 131.48,-79.86 120.92,-78.98 122.67,-85.76\"/>\n</g>\n<!-- 139725100954768 -->\n<g id=\"node2\" class=\"node\">\n<title>139725100954768</title>\n<polygon fill=\"none\" stroke=\"black\" points=\"3.5,-28.5 3.5,-64.5 90.5,-64.5 90.5,-28.5 3.5,-28.5\"/>\n<text text-anchor=\"middle\" x=\"47\" y=\"-42.8\" font-family=\"Times,serif\" font-size=\"14.00\">value 3.0000</text>\n</g>\n<!-- 139725100954768&#45;&gt;139725100950976* -->\n<g id=\"edge5\" class=\"edge\">\n<title>139725100954768&#45;&gt;139725100950976*</title>\n<path fill=\"none\" stroke=\"black\" d=\"M90.68,-57.17C100.92,-59.73 111.73,-62.43 121.55,-64.89\"/>\n<polygon fill=\"black\" stroke=\"black\" points=\"120.79,-68.31 131.35,-67.34 122.49,-61.52 120.79,-68.31\"/>\n</g>\n<!-- 139725100952416 -->\n<g id=\"node3\" class=\"node\">\n<title>139725100952416</title>\n<polygon fill=\"none\" stroke=\"black\" points=\"221,-0.5 221,-36.5 313,-36.5 313,-0.5 221,-0.5\"/>\n<text text-anchor=\"middle\" x=\"267\" y=\"-14.8\" font-family=\"Times,serif\" font-size=\"14.00\">value &#45;3.0000</text>\n</g>\n<!-- 139725100946848* -->\n<g id=\"node5\" class=\"node\">\n<title>139725100946848*</title>\n<ellipse fill=\"none\" stroke=\"black\" cx=\"377\" cy=\"-45.5\" rx=\"27\" ry=\"18\"/>\n<text text-anchor=\"middle\" x=\"377\" y=\"-41.8\" font-family=\"Times,serif\" font-size=\"14.00\">*</text>\n</g>\n<!-- 139725100952416&#45;&gt;139725100946848* -->\n<g id=\"edge4\" class=\"edge\">\n<title>139725100952416&#45;&gt;139725100946848*</title>\n<path fill=\"none\" stroke=\"black\" d=\"M313.18,-29.79C322.67,-32.17 332.53,-34.63 341.56,-36.89\"/>\n<polygon fill=\"black\" stroke=\"black\" points=\"340.77,-40.3 351.32,-39.33 342.47,-33.51 340.77,-40.3\"/>\n</g>\n<!-- 139725100946848 -->\n<g id=\"node4\" class=\"node\">\n<title>139725100946848</title>\n<polygon fill=\"none\" stroke=\"black\" points=\"440,-27.5 440,-63.5 545,-63.5 545,-27.5 440,-27.5\"/>\n<text text-anchor=\"middle\" x=\"492.5\" y=\"-41.8\" font-family=\"Times,serif\" font-size=\"14.00\">value &#45;108.0000</text>\n</g>\n<!-- 139725100946848*&#45;&gt;139725100946848 -->\n<g id=\"edge1\" class=\"edge\">\n<title>139725100946848*&#45;&gt;139725100946848</title>\n<path fill=\"none\" stroke=\"black\" d=\"M404.04,-45.5C411.74,-45.5 420.53,-45.5 429.49,-45.5\"/>\n<polygon fill=\"black\" stroke=\"black\" points=\"429.63,-49 439.63,-45.5 429.63,-42 429.63,-49\"/>\n</g>\n<!-- 139725100950976 -->\n<g id=\"node6\" class=\"node\">\n<title>139725100950976</title>\n<polygon fill=\"none\" stroke=\"black\" points=\"220,-55.5 220,-91.5 314,-91.5 314,-55.5 220,-55.5\"/>\n<text text-anchor=\"middle\" x=\"267\" y=\"-69.8\" font-family=\"Times,serif\" font-size=\"14.00\">value 36.0000</text>\n</g>\n<!-- 139725100950976&#45;&gt;139725100946848* -->\n<g id=\"edge3\" class=\"edge\">\n<title>139725100950976&#45;&gt;139725100946848*</title>\n<path fill=\"none\" stroke=\"black\" d=\"M314.11,-61.54C323.35,-59.15 332.89,-56.68 341.64,-54.41\"/>\n<polygon fill=\"black\" stroke=\"black\" points=\"342.67,-57.76 351.48,-51.86 340.92,-50.98 342.67,-57.76\"/>\n</g>\n<!-- 139725100950976*&#45;&gt;139725100950976 -->\n<g id=\"edge2\" class=\"edge\">\n<title>139725100950976*&#45;&gt;139725100950976</title>\n<path fill=\"none\" stroke=\"black\" d=\"M184.14,-73.5C191.95,-73.5 200.81,-73.5 209.77,-73.5\"/>\n<polygon fill=\"black\" stroke=\"black\" points=\"209.86,-77 219.86,-73.5 209.86,-70 209.86,-77\"/>\n</g>\n</g>\n</svg>\n",
            "text/plain": [
              "<graphviz.graphs.Digraph at 0x7f14490204f0>"
            ]
          },
          "metadata": {},
          "execution_count": 87
        }
      ]
    },
    {
      "cell_type": "code",
      "source": [],
      "metadata": {
        "id": "N8n1bWBCsbYw"
      },
      "execution_count": null,
      "outputs": []
    }
  ]
}